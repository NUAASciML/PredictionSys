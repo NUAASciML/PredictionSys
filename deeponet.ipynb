{
 "cells": [
  {
   "cell_type": "code",
   "execution_count": 1,
   "id": "98a0b233",
   "metadata": {
    "pycharm": {
     "name": "#%%\n"
    }
   },
   "outputs": [],
   "source": [
    "import pickle\n",
    "import tensorflow as tf\n",
    "import numpy as np\n",
    "import matplotlib.pyplot as plt"
   ]
  },
  {
   "cell_type": "code",
   "execution_count": 10,
   "id": "74199d79",
   "metadata": {
    "pycharm": {
     "name": "#%%\n"
    }
   },
   "outputs": [],
   "source": [
    "class deeponet(tf.keras.Model):\n",
    "    def __init__(self):\n",
    "        super(deeponet, self).__init__()\n",
    "        self.trunk = tf.keras.Sequential([tf.keras.layers.Dense(128, activation='tanh'),\n",
    "                        tf.keras.layers.Dense(64, activation='tanh'),\n",
    "                        tf.keras.layers.Dense(16)])\n",
    "        self.branch_1 = tf.keras.Sequential([tf.keras.layers.Dense(128, activation='tanh'),\n",
    "                        tf.keras.layers.Dense(64, activation='tanh'),\n",
    "                        tf.keras.layers.Dense(16)])\n",
    "        self.branch_2 = tf.keras.Sequential([tf.keras.layers.Dense(128, activation='tanh'),\n",
    "                        tf.keras.layers.Dense(64, activation='tanh'),\n",
    "                        tf.keras.layers.Dense(16)])\n",
    "        \n",
    "        self.bias = tf.Variable(0., trainable=True)\n",
    "        \n",
    "    def call(self, inputs):\n",
    "        func_1 = inputs[0]\n",
    "        func_2 = inputs[1]\n",
    "        loc = inputs[2]\n",
    "        \n",
    "        x1 = self.branch_1(func_1)\n",
    "        x2 = self.branch_2(func_2)\n",
    "        x2 = x1*x2\n",
    "        \n",
    "        x3 = self.trunk(loc)\n",
    "        \n",
    "        x4 = tf.einsum(\"bi,bi->b\",x2,x3)\n",
    "        x4 = tf.expand_dims(x4, axis=1) + self.bias\n",
    "        \n",
    "        return x4\n",
    "\n",
    "\n",
    "def cal_grad(model, x, y, c, u):\n",
    "    with tf.GradientTape() as tape:\n",
    "        pred = model.call([x,y,c])\n",
    "        loss_value = tf.reduce_mean(tf.square(u-pred))\n",
    "        #loss_value = tf.reduce_mean(tf.norm(u-pred,1)/tf.norm(u,1))\n",
    "    grads = tape.gradient(loss_value, model.trainable_variables)\n",
    "    del tape\n",
    "    return loss_value, grads\n",
    "\n",
    "def train_model(model, dataset, num_epochs):\n",
    "    train_loss_results = []\n",
    "    optimizer = tf.keras.optimizers.Adam()\n",
    "    for epoch in range(num_epochs):\n",
    "        epoch_loss_avg = tf.keras.metrics.Mean()\n",
    "        for x, y, c, u in dataset:\n",
    "            loss_value, grads = cal_grad(model, x, y, c, u)\n",
    "            optimizer.apply_gradients(zip(grads, model.trainable_variables))\n",
    "            epoch_loss_avg.update_state(loss_value)\n",
    "        \n",
    "        train_loss_results.append(epoch_loss_avg.result())\n",
    "        print(\"\\r Epoch {:d}: Loss: {:.6f}\".format(epoch+1, epoch_loss_avg.result()), end='', flush=True)\n",
    "    \n",
    "    plt.plot(train_loss_results)\n",
    "    plt.yscale('log')\n",
    "    plt.show()\n",
    "    \n",
    "    return model\n",
    "\n",
    "def test_model(model, dataset):\n",
    "    epoch_loss_avg = tf.keras.metrics.Mean()\n",
    "    for x, y, c, u in dataset:\n",
    "        pred = model.call([x,y,c])\n",
    "        loss_value = tf.reduce_mean(tf.square(u-pred))\n",
    "        #loss_value = tf.reduce_mean(tf.norm(u-pred,1)/tf.norm(u,1))\n",
    "        epoch_loss_avg.update_state(loss_value)\n",
    "        \n",
    "    print(\"\\r Test Loss: {:.6f}\".format(epoch_loss_avg.result()), end='\\n')\n",
    "    \n",
    "def test_model_l1(model, dataset):\n",
    "    epoch_loss_avg = tf.keras.metrics.Mean()\n",
    "    for x, y, c, u in dataset:\n",
    "        pred = model.call([x,y,c])\n",
    "        loss_value = tf.reduce_mean(tf.norm(u-pred,1)/tf.norm(u,1))\n",
    "        epoch_loss_avg.update_state(loss_value)\n",
    "        \n",
    "    print(\"\\r Test Loss: {:.6f}\".format(epoch_loss_avg.result()), end='\\n')"
   ]
  },
  {
   "cell_type": "code",
   "execution_count": 6,
   "id": "b755f782",
   "metadata": {
    "pycharm": {
     "name": "#%%\n"
    }
   },
   "outputs": [],
   "source": [
    "aoa_range = np.linspace(-10,10,21)\n",
    "mach_range = np.array([0.25,0.45,0.65])\n",
    "root_path = \"data/NACA0012_DATA/NACA0012_DATA/dataset/\"\n",
    "coor = np.loadtxt(\"data/NACA0012_DATA/NACA0012_DATA/coordinates.txt\")\n",
    "coor = np.delete(coor,2,1)\n",
    "\n",
    "u = np.zeros((1,3))\n",
    "x = np.zeros((1,1))\n",
    "y = np.zeros((1,1))\n",
    "c = np.zeros((1,2))\n",
    "for a in aoa_range:\n",
    "    for m in mach_range:\n",
    "        if (abs(a)%2==0 and abs(a)!=0) and (m==0.3 or m==0.5 or m==0.7):\n",
    "            continue\n",
    "        path = root_path+\"outputs_re_None_aoa_\"+str(a)+\"_mach_\"+str(m)+\".pkl\"\n",
    "        dat = np.array(pickle.load(open(path, \"rb\"))).T\n",
    "        u = np.concatenate((u,dat))\n",
    "        aoa = np.zeros((dat.shape[0],1))+a\n",
    "        mach = np.zeros((dat.shape[0],1))+m\n",
    "        x = np.concatenate((x,aoa))\n",
    "        y = np.concatenate((y,mach))\n",
    "        c = np.concatenate((c,coor))\n",
    "u = np.delete(u,0,0)\n",
    "x = np.delete(x,0,0)\n",
    "y = np.delete(y,0,0)\n",
    "c = np.delete(c,0,0)\n",
    "maxmin = np.array(pickle.load(open(\"data/NACA0012_DATA/NACA0012_DATA/train_max_min.pkl\", \"rb\"))).T\n",
    "u = u.T\n",
    "for i in range(3):\n",
    "    u[i] = (u[i]-maxmin[i,1])/(maxmin[i,0]-maxmin[i,1])\n",
    "u = u.T  \n",
    "\n",
    "\n",
    "curr = np.concatenate((x,y),-1)\n",
    "curr = np.concatenate((curr,c),-1)\n",
    "curr = np.concatenate((curr,u),-1)\n",
    "\n",
    "\n",
    "x = curr[:,0].reshape(curr.shape[0],1)\n",
    "y = curr[:,1].reshape(curr.shape[0],1)\n",
    "c = curr[:,2:4].reshape(curr.shape[0],2)\n",
    "u1 = curr[:,4].reshape(curr.shape[0],1)\n",
    "u2 = curr[:,5].reshape(curr.shape[0],1)\n",
    "u3 = curr[:,6].reshape(curr.shape[0],1)\n",
    "\n",
    "\n",
    "x = tf.constant(x,dtype=tf.float32)\n",
    "y = tf.constant(y,dtype=tf.float32)\n",
    "c = tf.constant(c,dtype=tf.float32)\n",
    "u1 = tf.constant(u1,dtype=tf.float32)\n",
    "u2 = tf.constant(u2,dtype=tf.float32)\n",
    "u3 = tf.constant(u3,dtype=tf.float32)\n",
    "testset_1 = tf.data.Dataset.from_tensor_slices((x,y,c,u1)).shuffle(100).batch(10000)\n",
    "testset_2 = tf.data.Dataset.from_tensor_slices((x,y,c,u2)).shuffle(100).batch(10000)\n",
    "testset_3 = tf.data.Dataset.from_tensor_slices((x,y,c,u3)).shuffle(100).batch(10000)\n",
    "\n"
   ]
  },
  {
   "cell_type": "code",
   "execution_count": 7,
   "id": "0dbaa223",
   "metadata": {
    "pycharm": {
     "name": "#%%\n"
    }
   },
   "outputs": [],
   "source": [
    "aoa_range = np.linspace(-10,10,21)\n",
    "mach_range = np.array([0.2,0.3,0.35,0.4,0.5,0.55,0.6,0.7])\n",
    "root_path = \"data/NACA0012_DATA/NACA0012_DATA/dataset/\"\n",
    "coor = np.loadtxt(\"data/NACA0012_DATA/NACA0012_DATA/coordinates.txt\")\n",
    "coor = np.delete(coor,2,1)\n",
    "\n",
    "u = np.zeros((1,3))\n",
    "x = np.zeros((1,1))\n",
    "y = np.zeros((1,1))\n",
    "c = np.zeros((1,2))\n",
    "for a in aoa_range:\n",
    "    for m in mach_range:\n",
    "        if (abs(a)%2==0 and abs(a)!=0) and (m==0.3 or m==0.5 or m==0.7):\n",
    "            continue\n",
    "        path = root_path+\"outputs_re_None_aoa_\"+str(a)+\"_mach_\"+str(m)+\".pkl\"\n",
    "        dat = np.array(pickle.load(open(path, \"rb\"))).T\n",
    "        u = np.concatenate((u,dat))\n",
    "        aoa = np.zeros((dat.shape[0],1))+a\n",
    "        mach = np.zeros((dat.shape[0],1))+m\n",
    "        x = np.concatenate((x,aoa))\n",
    "        y = np.concatenate((y,mach))\n",
    "        c = np.concatenate((c,coor))\n",
    "u = np.delete(u,0,0)\n",
    "x = np.delete(x,0,0)\n",
    "y = np.delete(y,0,0)\n",
    "c = np.delete(c,0,0)\n",
    "maxmin = np.array(pickle.load(open(\"data/NACA0012_DATA/NACA0012_DATA/train_max_min.pkl\", \"rb\"))).T\n",
    "u = u.T\n",
    "for i in range(3):\n",
    "    u[i] = (u[i]-maxmin[i,1])/(maxmin[i,0]-maxmin[i,1])\n",
    "u = u.T  \n",
    "    \n",
    "curr = np.concatenate((x,y),-1)\n",
    "curr = np.concatenate((curr,c),-1)\n",
    "curr = np.concatenate((curr,u),-1)\n",
    "\n",
    "np.random.shuffle(curr)\n",
    "x = curr[:,0].reshape(curr.shape[0],1)\n",
    "y = curr[:,1].reshape(curr.shape[0],1)\n",
    "c = curr[:,2:4].reshape(curr.shape[0],2)\n",
    "u1 = curr[:,4].reshape(curr.shape[0],1)\n",
    "u2 = curr[:,5].reshape(curr.shape[0],1)\n",
    "u3 = curr[:,6].reshape(curr.shape[0],1)\n",
    "\n",
    "\n",
    "x = tf.constant(x,dtype=tf.float32)\n",
    "y = tf.constant(y,dtype=tf.float32)\n",
    "c = tf.constant(c,dtype=tf.float32)\n",
    "u1 = tf.constant(u1,dtype=tf.float32)\n",
    "u2 = tf.constant(u2,dtype=tf.float32)\n",
    "u3 = tf.constant(u3,dtype=tf.float32)\n",
    "\n",
    "num_epochs = 2000\n",
    "batchsize = 10000\n",
    "trainset_1 = tf.data.Dataset.from_tensor_slices((x,y,c,u1)).shuffle(100).batch(batchsize)\n",
    "trainset_2 = tf.data.Dataset.from_tensor_slices((x,y,c,u2)).shuffle(100).batch(batchsize)\n",
    "trainset_3 = tf.data.Dataset.from_tensor_slices((x,y,c,u3)).shuffle(100).batch(batchsize)"
   ]
  },
  {
   "cell_type": "code",
   "execution_count": 8,
   "id": "04fb2e83",
   "metadata": {
    "pycharm": {
     "name": "#%%\n"
    }
   },
   "outputs": [
    {
     "name": "stdout",
     "output_type": "stream",
     "text": [
      " Epoch 2000: Loss: 0.000021"
     ]
    },
    {
     "data": {
      "image/png": "[encoded data removed]",
      "text/plain": [
       "<Figure size 432x288 with 1 Axes>"
      ]
     },
     "metadata": {
      "needs_background": "light"
     },
     "output_type": "display_data"
    },
    {
     "name": "stdout",
     "output_type": "stream",
     "text": [
      " Epoch 2000: Loss: 0.000004"
     ]
    },
    {
     "data": {
      "image/png": "[encoded data removed]",
      "text/plain": [
       "<Figure size 432x288 with 1 Axes>"
      ]
     },
     "metadata": {
      "needs_background": "light"
     },
     "output_type": "display_data"
    },
    {
     "name": "stdout",
     "output_type": "stream",
     "text": [
      " Epoch 2000: Loss: 0.000025"
     ]
    },
    {
     "data": {
      "image/png": "[encoded data removed]",
      "text/plain": [
       "<Figure size 432x288 with 1 Axes>"
      ]
     },
     "metadata": {
      "needs_background": "light"
     },
     "output_type": "display_data"
    }
   ],
   "source": [
    "model_1 = deeponet()\n",
    "model_1 = train_model(model_1,trainset_1,num_epochs)\n",
    "\n",
    "model_2 = deeponet()\n",
    "model_2 = train_model(model_2,trainset_2,num_epochs)\n",
    "\n",
    "model_3 = deeponet()\n",
    "model_3 = train_model(model_3,trainset_3,num_epochs)\n"
   ]
  },
  {
   "cell_type": "code",
   "execution_count": 7,
   "id": "25d06bd7",
   "metadata": {
    "pycharm": {
     "name": "#%%\n"
    }
   },
   "outputs": [
    {
     "data": {
      "text/plain": [
       "\"\\nmodel_1 = deeponet()\\nmodel_2 = deeponet()\\nmodel_3 = deeponet()\\nmodel_1.build([(10000,1),(10000,1),(10000,2)])\\nmodel_2.build([(10000,1),(10000,1),(10000,2)])\\nmodel_3.build([(10000,1),(10000,1),(10000,2)])\\nmodel_1.load_weights('deeponet_1.h5')\\nmodel_2.load_weights('deeponet_2.h5')\\nmodel_3.load_weights('deeponet_3.h5')\\n\""
      ]
     },
     "execution_count": 7,
     "metadata": {},
     "output_type": "execute_result"
    }
   ],
   "source": [
    "model_1.save_weights('model/deeponet_1.h5')\n",
    "model_2.save_weights('model/deeponet_2.h5')\n",
    "model_3.save_weights('model/deeponet_3.h5')\n",
    "\n",
    "'''\n",
    "model_1 = deeponet()\n",
    "model_2 = deeponet()\n",
    "model_3 = deeponet()\n",
    "model_1.build([(10000,1),(10000,1),(10000,2)])\n",
    "model_2.build([(10000,1),(10000,1),(10000,2)])\n",
    "model_3.build([(10000,1),(10000,1),(10000,2)])\n",
    "model_1.load_weights('deeponet_1.h5')\n",
    "model_2.load_weights('deeponet_2.h5')\n",
    "model_3.load_weights('deeponet_3.h5')\n",
    "'''"
   ]
  },
  {
   "cell_type": "code",
   "execution_count": 9,
   "id": "6bb6ea12",
   "metadata": {
    "pycharm": {
     "name": "#%%\n"
    }
   },
   "outputs": [
    {
     "name": "stdout",
     "output_type": "stream",
     "text": [
      " Test Loss: 0.000121\n",
      " Test Loss: 0.000005\n",
      " Test Loss: 0.000209\n"
     ]
    }
   ],
   "source": [
    "test_model(model_1,testset_1)\n",
    "test_model(model_2,testset_2)\n",
    "test_model(model_3,testset_3)"
   ]
  },
  {
   "cell_type": "code",
   "execution_count": 11,
   "id": "17cb6e94",
   "metadata": {
    "pycharm": {
     "name": "#%%\n"
    }
   },
   "outputs": [
    {
     "name": "stdout",
     "output_type": "stream",
     "text": [
      " Test Loss: 0.008156\n",
      " Test Loss: 0.002275\n",
      " Test Loss: 0.004910\n"
     ]
    }
   ],
   "source": [
    "test_model_l1(model_1,testset_1)\n",
    "test_model_l1(model_2,testset_2)\n",
    "test_model_l1(model_3,testset_3)"
   ]
  }
 ],
 "metadata": {
  "kernelspec": {
   "display_name": "Python 3",
   "language": "python",
   "name": "python3"
  },
  "language_info": {
   "codemirror_mode": {
    "name": "ipython",
    "version": 3
   },
   "file_extension": ".py",
   "mimetype": "text/x-python",
   "name": "python",
   "nbconvert_exporter": "python",
   "pygments_lexer": "ipython3",
   "version": "3.8.8"
  }
 },
 "nbformat": 4,
 "nbformat_minor": 5
}